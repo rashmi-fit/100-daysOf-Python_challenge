{
 "cells": [
  {
   "cell_type": "code",
   "execution_count": 3,
   "id": "d43386d1",
   "metadata": {
    "ExecuteTime": {
     "end_time": "2022-09-02T23:39:30.773678Z",
     "start_time": "2022-09-02T23:39:24.303823Z"
    }
   },
   "outputs": [
    {
     "name": "stdout",
     "output_type": "stream",
     "text": [
      "Collecting autoscraper\n",
      "  Downloading autoscraper-1.1.14-py3-none-any.whl (10 kB)\n",
      "Requirement already satisfied: requests in /Users/rmn7591/opt/anaconda3/lib/python3.9/site-packages (from autoscraper) (2.28.1)\n",
      "Requirement already satisfied: lxml in /Users/rmn7591/opt/anaconda3/lib/python3.9/site-packages (from autoscraper) (4.9.1)\n",
      "Collecting bs4\n",
      "  Downloading bs4-0.0.1.tar.gz (1.1 kB)\n",
      "  Preparing metadata (setup.py) ... \u001b[?25ldone\n",
      "\u001b[?25hRequirement already satisfied: beautifulsoup4 in /Users/rmn7591/opt/anaconda3/lib/python3.9/site-packages (from bs4->autoscraper) (4.11.1)\n",
      "Requirement already satisfied: idna<4,>=2.5 in /Users/rmn7591/opt/anaconda3/lib/python3.9/site-packages (from requests->autoscraper) (3.3)\n",
      "Requirement already satisfied: urllib3<1.27,>=1.21.1 in /Users/rmn7591/opt/anaconda3/lib/python3.9/site-packages (from requests->autoscraper) (1.26.11)\n",
      "Requirement already satisfied: charset-normalizer<3,>=2 in /Users/rmn7591/opt/anaconda3/lib/python3.9/site-packages (from requests->autoscraper) (2.0.4)\n",
      "Requirement already satisfied: certifi>=2017.4.17 in /Users/rmn7591/opt/anaconda3/lib/python3.9/site-packages (from requests->autoscraper) (2022.6.15)\n",
      "Requirement already satisfied: soupsieve>1.2 in /Users/rmn7591/opt/anaconda3/lib/python3.9/site-packages (from beautifulsoup4->bs4->autoscraper) (2.3.1)\n",
      "Building wheels for collected packages: bs4\n",
      "  Building wheel for bs4 (setup.py) ... \u001b[?25ldone\n",
      "\u001b[?25h  Created wheel for bs4: filename=bs4-0.0.1-py3-none-any.whl size=1272 sha256=b5d64b45ba5b2284cfc3da9d4208297bdddba3d40d10c6474dbf8bbbde2b999e\n",
      "  Stored in directory: /Users/rmn7591/Library/Caches/pip/wheels/73/2b/cb/099980278a0c9a3e57ff1a89875ec07bfa0b6fcbebb9a8cad3\n",
      "Successfully built bs4\n",
      "Installing collected packages: bs4, autoscraper\n",
      "Successfully installed autoscraper-1.1.14 bs4-0.0.1\n"
     ]
    }
   ],
   "source": [
    "!pip3 install autoscraper"
   ]
  },
  {
   "cell_type": "code",
   "execution_count": 5,
   "id": "c2a321df",
   "metadata": {
    "ExecuteTime": {
     "end_time": "2022-09-02T23:41:27.353529Z",
     "start_time": "2022-09-02T23:41:27.337067Z"
    }
   },
   "outputs": [],
   "source": [
    "from autoscraper import AutoScraper"
   ]
  },
  {
   "cell_type": "code",
   "execution_count": 10,
   "id": "c3f6468d",
   "metadata": {
    "ExecuteTime": {
     "end_time": "2022-09-02T23:44:17.213652Z",
     "start_time": "2022-09-02T23:44:17.200333Z"
    }
   },
   "outputs": [],
   "source": [
    "amazon_url=\"https://www.amazon.co.uk/s?k=headphones\"\n",
    "wanted_list=[\"£25.99\",\"Wireless Headphones,Taopod X08 Bluetooth Headphones Wireless Earbuds With Microphone,40h Playtime Touch Control Ipx7 Waterproof in Ear Headphones(White)\"]"
   ]
  },
  {
   "cell_type": "code",
   "execution_count": 11,
   "id": "828691ce",
   "metadata": {
    "ExecuteTime": {
     "end_time": "2022-09-02T23:44:19.764799Z",
     "start_time": "2022-09-02T23:44:18.565082Z"
    }
   },
   "outputs": [],
   "source": [
    "scraper=AutoScraper()\n",
    "results=scraper.build(amazon_url,wanted_list,)"
   ]
  },
  {
   "cell_type": "code",
   "execution_count": 12,
   "id": "99c758cb",
   "metadata": {
    "ExecuteTime": {
     "end_time": "2022-09-02T23:44:20.067514Z",
     "start_time": "2022-09-02T23:44:20.039628Z"
    }
   },
   "outputs": [
    {
     "data": {
      "text/plain": [
       "['£6.00',\n",
       " '£12.99',\n",
       " '£12.78',\n",
       " '£15.00',\n",
       " '£319.00',\n",
       " '£6.98',\n",
       " '£8.34',\n",
       " '£13.99',\n",
       " '£30.00',\n",
       " '£22.75',\n",
       " '£24.99',\n",
       " '£79.99',\n",
       " '£34.99',\n",
       " '£50.00',\n",
       " '£22.89',\n",
       " '£25.99',\n",
       " '£27.99',\n",
       " '£8.50',\n",
       " '£18.99',\n",
       " '£17.99',\n",
       " '£42.99',\n",
       " '£7.59',\n",
       " '£6.49',\n",
       " '£5.94',\n",
       " '£6.99',\n",
       " '£19.99',\n",
       " '£19.54',\n",
       " '£22.99',\n",
       " '£36.39',\n",
       " '£15.99',\n",
       " '£9.99',\n",
       " '£8.99',\n",
       " 'Amazon\\'s Choicefor \"headphones\"',\n",
       " 'Blukar Earphones, In-Ear Headphones Earphones High Sensitivity Microphone – Noise Isolating, High Definition, Pure Sound for iPhone, iPad, Smartphone, MP3 Players etc.',\n",
       " 'Sony MDR-ZX110 Overhead Headphones - Black',\n",
       " 'Bose QuietComfort® 45 Bluetooth wireless noise cancelling headphones with microphone for phone calls - Triple Black',\n",
       " '2 Pack Earphones Wired Headphones In Ear Wired Earbuds with Microphone Noise Isolating Headset remote sound control Compatible With Phone Samsung Huawei Android Smartphones Tablets Laptops',\n",
       " 'Hama Basic 4 Music Wired Headphones, Over-Ear, 2m Long Cable, black',\n",
       " 'Sony ZX310AP On-Ear Headphones Compatible with Smartphones, Tablets and MP3 Devices - Metallic Black',\n",
       " 'Sennheiser HD 206 Stereo Headphone',\n",
       " 'Soundcore by Anker Life Q30 Hybrid Active Noise Cancelling Headphones with Multiple Modes, Hi-Res Sound, Custom EQ via App, 40H Playtime, Comfortable Fit, Bluetooth Headphones, Multipoint Connection',\n",
       " 'Sony WH-CH510 Wireless Bluetooth Headphones with Mic, 35 Hours Battery Life with Quick Charge, On-ear Style, Hands-Free Call, Voice Assistant - Black',\n",
       " 'Sennheiser HD 206 Headphone Black HD 206',\n",
       " 'Wireless Headphones,Taopod X08 Bluetooth Headphones Wireless Earbuds With Microphone,40h Playtime Touch Control Ipx7 Waterproof in Ear Headphones(White)',\n",
       " 'Hi-Res Extra Bass Earbuds Noise Isolating In-Ear Headphones Wired Earbuds with Microphone for iPhone, iPod, iPad, MP3, HUAWEI, Samsung, Lightweight Earphones with Volume Control 3.5mm Jack Headphones',\n",
       " 'Wireless Bluetooth Over Ear Stereo Foldable Headphones,Wireless and Wired Mode Headsets with Soft Memory-Protein Earmuffs,Built-in Mic for Mobile Phone PC Laptop (Black-Organge)',\n",
       " 'Best Sellerin Studio Headphones',\n",
       " 'OneOdio Wired Over Ear Headphones Hi-Fi Sound & Bass Boosted headphone with 50mm Neodymium Drivers and 1/4 to 3.5mm Audio Jack for Studio DJ AMP Recording Monitoring Phones Laptop (Red)',\n",
       " 'PowerLocus Wireless Bluetooth Over-Ear Stereo Foldable Headphones, Wired Headsets Noise Cancelling with Built-in Microphone for iPhone, Samsung, LG, iPad (Black/Blue)',\n",
       " 'DOQAUS Bluetooth Headphones Over Ear, Wireless Headphones with Mic, 52 Hours Playtime, 3 EQ Modes, Foldable Headset with Soft Memory Protein Earpads, Bluetooth 5.0 & Wired Mode for Smartphone Laptop',\n",
       " 'Bluetooth Headphones, Wireless Earbuds Bluetooth 5.1, Powerful Bass, 40 Hours Playtime with Charging Case, IPX7 Waterproof, Earphones Suitable for Work, Games and Sports',\n",
       " 'Betron B25 Earphones, Noise Isolating In-Ear Wired Headphones with Strong Bass, Tangle-Free Cord, Lightweight, Carry Case and Soft Earbud Tips',\n",
       " 'Earphones,Headphones, Earphones Wired Earphones Jack for Phone PC laptop with 3.5mm device',\n",
       " 'Betron AX1 Earphones In Ear Earbuds Headphones with Microphone Bass Driven Sound Noise Isolating Ear Phone Tips Wired 3.5mm Jack for Laptop Computer Tablet MP3 Player iPhone iPad Smartphones etc']"
      ]
     },
     "execution_count": 12,
     "metadata": {},
     "output_type": "execute_result"
    }
   ],
   "source": [
    "results"
   ]
  },
  {
   "cell_type": "code",
   "execution_count": 15,
   "id": "d41e8b79",
   "metadata": {
    "ExecuteTime": {
     "end_time": "2022-09-02T23:44:52.855813Z",
     "start_time": "2022-09-02T23:44:51.922653Z"
    }
   },
   "outputs": [
    {
     "data": {
      "text/plain": [
       "{'rule_yx3j': ['£6.00',\n",
       "  '£12.99',\n",
       "  '£12.78',\n",
       "  '£15.00',\n",
       "  '£319.00',\n",
       "  '£6.98',\n",
       "  '£8.34',\n",
       "  '£13.99',\n",
       "  '£12.99',\n",
       "  '£30.00',\n",
       "  '£22.75',\n",
       "  '£24.99',\n",
       "  '£79.99',\n",
       "  '£34.99',\n",
       "  '£50.00',\n",
       "  '£22.89',\n",
       "  '£25.99',\n",
       "  '£27.99',\n",
       "  '£8.50',\n",
       "  '£12.99',\n",
       "  '£18.99',\n",
       "  '£34.99',\n",
       "  '£17.99',\n",
       "  '£34.99',\n",
       "  '£42.99'],\n",
       " 'rule_psd4': ['£6.00',\n",
       "  '£12.99',\n",
       "  '£12.78',\n",
       "  '£15.00',\n",
       "  '£319.00',\n",
       "  '£6.98',\n",
       "  '£8.34',\n",
       "  '£13.99',\n",
       "  '£12.99',\n",
       "  '£30.00',\n",
       "  '£22.75',\n",
       "  '£24.99',\n",
       "  '£79.99',\n",
       "  '£34.99',\n",
       "  '£50.00',\n",
       "  '£22.89',\n",
       "  '£25.99',\n",
       "  '£27.99',\n",
       "  '£8.50',\n",
       "  '£12.99',\n",
       "  '£18.99',\n",
       "  '£34.99',\n",
       "  '£17.99',\n",
       "  '£34.99',\n",
       "  '£42.99'],\n",
       " 'rule_qm5z': [],\n",
       " 'rule_kv3q': [],\n",
       " 'rule_sg9x': [],\n",
       " 'rule_pozu': [],\n",
       " 'rule_vl07': ['£25.99',\n",
       "  '£27.99',\n",
       "  '£34.99',\n",
       "  '£15.99',\n",
       "  '£19.99',\n",
       "  '£9.99',\n",
       "  '£6.99',\n",
       "  '£8.99'],\n",
       " 'rule_bqm8': ['£25.99',\n",
       "  '£27.99',\n",
       "  '£34.99',\n",
       "  '£15.99',\n",
       "  '£19.99',\n",
       "  '£9.99',\n",
       "  '£6.99',\n",
       "  '£8.99'],\n",
       " 'rule_3eze': ['Amazon\\'s Choicefor \"headphones\"',\n",
       "  'Blukar Earphones, In-Ear Headphones Earphones High Sensitivity Microphone – Noise Isolating, High Definition, Pure Sound for iPhone, iPad, Smartphone, MP3 Players etc.',\n",
       "  'Sony MDR-ZX110 Overhead Headphones - Black',\n",
       "  'Bose QuietComfort® 45 Bluetooth wireless noise cancelling headphones with microphone for phone calls - Triple Black',\n",
       "  '2 Pack Earphones Wired Headphones In Ear Wired Earbuds with Microphone Noise Isolating Headset remote sound control Compatible With Phone Samsung Huawei Android Smartphones Tablets Laptops',\n",
       "  'Hama Basic 4 Music Wired Headphones, Over-Ear, 2m Long Cable, black',\n",
       "  'Sony ZX310AP On-Ear Headphones Compatible with Smartphones, Tablets and MP3 Devices - Metallic Black',\n",
       "  'Sennheiser HD 206 Stereo Headphone',\n",
       "  'Soundcore by Anker Life Q30 Hybrid Active Noise Cancelling Headphones with Multiple Modes, Hi-Res Sound, Custom EQ via App, 40H Playtime, Comfortable Fit, Bluetooth Headphones, Multipoint Connection',\n",
       "  'Sony WH-CH510 Wireless Bluetooth Headphones with Mic, 35 Hours Battery Life with Quick Charge, On-ear Style, Hands-Free Call, Voice Assistant - Black',\n",
       "  'Sennheiser HD 206 Headphone Black HD 206',\n",
       "  'Wireless Headphones,Taopod X08 Bluetooth Headphones Wireless Earbuds With Microphone,40h Playtime Touch Control Ipx7 Waterproof in Ear Headphones(White)',\n",
       "  'Hi-Res Extra Bass Earbuds Noise Isolating In-Ear Headphones Wired Earbuds with Microphone for iPhone, iPod, iPad, MP3, HUAWEI, Samsung, Lightweight Earphones with Volume Control 3.5mm Jack Headphones',\n",
       "  'Wireless Bluetooth Over Ear Stereo Foldable Headphones,Wireless and Wired Mode Headsets with Soft Memory-Protein Earmuffs,Built-in Mic for Mobile Phone PC Laptop (Black-Organge)',\n",
       "  'Best Sellerin Studio Headphones',\n",
       "  'OneOdio Wired Over Ear Headphones Hi-Fi Sound & Bass Boosted headphone with 50mm Neodymium Drivers and 1/4 to 3.5mm Audio Jack for Studio DJ AMP Recording Monitoring Phones Laptop (Red)',\n",
       "  'PowerLocus Wireless Bluetooth Over-Ear Stereo Foldable Headphones, Wired Headsets Noise Cancelling with Built-in Microphone for iPhone, Samsung, LG, iPad (Black/Blue)',\n",
       "  'DOQAUS Bluetooth Headphones Over Ear, Wireless Headphones with Mic, 52 Hours Playtime, 3 EQ Modes, Foldable Headset with Soft Memory Protein Earpads, Bluetooth 5.0 & Wired Mode for Smartphone Laptop'],\n",
       " 'rule_0glz': ['Wireless Headphones,Taopod X08 Bluetooth Headphones Wireless Earbuds With Microphone,40h Playtime Touch Control Ipx7 Waterproof in Ear Headphones(White)',\n",
       "  'OneOdio Wired Over Ear Headphones Hi-Fi Sound & Bass Boosted headphone with 50mm Neodymium Drivers and 1/4 to 3.5mm Audio Jack for Studio DJ AMP Recording Monitoring Phones Laptop (Red)',\n",
       "  'Bluetooth Headphones, Wireless Earbuds Bluetooth 5.1, Powerful Bass, 40 Hours Playtime with Charging Case, IPX7 Waterproof, Earphones Suitable for Work, Games and Sports',\n",
       "  'Betron B25 Earphones, Noise Isolating In-Ear Wired Headphones with Strong Bass, Tangle-Free Cord, Lightweight, Carry Case and Soft Earbud Tips',\n",
       "  'Earphones,Headphones, Earphones Wired Earphones Jack for Phone PC laptop with 3.5mm device',\n",
       "  'Betron AX1 Earphones In Ear Earbuds Headphones with Microphone Bass Driven Sound Noise Isolating Ear Phone Tips Wired 3.5mm Jack for Laptop Computer Tablet MP3 Player iPhone iPad Smartphones etc']}"
      ]
     },
     "execution_count": 15,
     "metadata": {},
     "output_type": "execute_result"
    }
   ],
   "source": [
    "scraper.get_result_similar(amazon_url,grouped=True)"
   ]
  },
  {
   "cell_type": "code",
   "execution_count": 17,
   "id": "799ebeb2",
   "metadata": {
    "ExecuteTime": {
     "end_time": "2022-09-02T23:49:35.290388Z",
     "start_time": "2022-09-02T23:49:35.261159Z"
    }
   },
   "outputs": [
    {
     "ename": "NameError",
     "evalue": "name 'rule_bqm8' is not defined",
     "output_type": "error",
     "traceback": [
      "\u001b[0;31m---------------------------------------------------------------------------\u001b[0m",
      "\u001b[0;31mNameError\u001b[0m                                 Traceback (most recent call last)",
      "Input \u001b[0;32mIn [17]\u001b[0m, in \u001b[0;36m<cell line: 2>\u001b[0;34m()\u001b[0m\n\u001b[1;32m      1\u001b[0m scraper\u001b[38;5;241m.\u001b[39mset_rule_aliases({\u001b[38;5;124m'\u001b[39m\u001b[38;5;124mrule_bqm8\u001b[39m\u001b[38;5;124m'\u001b[39m:\u001b[38;5;124m'\u001b[39m\u001b[38;5;124mTitle\u001b[39m\u001b[38;5;124m'\u001b[39m})\n\u001b[0;32m----> 2\u001b[0m scraper\u001b[38;5;241m.\u001b[39mkeep_rules([\u001b[43mrule_bqm8\u001b[49m])\n\u001b[1;32m      3\u001b[0m scraper\u001b[38;5;241m.\u001b[39msave(\u001b[38;5;124m'\u001b[39m\u001b[38;5;124mamazon-search\u001b[39m\u001b[38;5;124m'\u001b[39m)\n",
      "\u001b[0;31mNameError\u001b[0m: name 'rule_bqm8' is not defined"
     ]
    }
   ],
   "source": [
    "scraper.set_rule_aliases({'rule_3eze':'Title'})\n",
    "scraper.keep_rules([rule_3eze])\n",
    "scraper.save('amazon-search')"
   ]
  },
  {
   "cell_type": "code",
   "execution_count": null,
   "id": "10576682",
   "metadata": {},
   "outputs": [],
   "source": []
  },
  {
   "cell_type": "code",
   "execution_count": null,
   "id": "99506bcc",
   "metadata": {},
   "outputs": [],
   "source": []
  },
  {
   "cell_type": "code",
   "execution_count": null,
   "id": "c1401599",
   "metadata": {},
   "outputs": [],
   "source": []
  },
  {
   "cell_type": "code",
   "execution_count": null,
   "id": "f1d5dced",
   "metadata": {},
   "outputs": [],
   "source": []
  },
  {
   "cell_type": "code",
   "execution_count": null,
   "id": "837fc40b",
   "metadata": {},
   "outputs": [],
   "source": []
  },
  {
   "cell_type": "code",
   "execution_count": null,
   "id": "7e6a7509",
   "metadata": {},
   "outputs": [],
   "source": []
  },
  {
   "cell_type": "code",
   "execution_count": null,
   "id": "fa7ae4d1",
   "metadata": {},
   "outputs": [],
   "source": []
  },
  {
   "cell_type": "code",
   "execution_count": null,
   "id": "9257db3f",
   "metadata": {},
   "outputs": [],
   "source": []
  },
  {
   "cell_type": "code",
   "execution_count": null,
   "id": "59f27023",
   "metadata": {},
   "outputs": [],
   "source": []
  },
  {
   "cell_type": "code",
   "execution_count": null,
   "id": "ae574c48",
   "metadata": {},
   "outputs": [],
   "source": []
  }
 ],
 "metadata": {
  "kernelspec": {
   "display_name": "Python 3 (ipykernel)",
   "language": "python",
   "name": "python3"
  },
  "language_info": {
   "codemirror_mode": {
    "name": "ipython",
    "version": 3
   },
   "file_extension": ".py",
   "mimetype": "text/x-python",
   "name": "python",
   "nbconvert_exporter": "python",
   "pygments_lexer": "ipython3",
   "version": "3.9.7"
  },
  "toc": {
   "base_numbering": 1,
   "nav_menu": {},
   "number_sections": true,
   "sideBar": true,
   "skip_h1_title": false,
   "title_cell": "Table of Contents",
   "title_sidebar": "Contents",
   "toc_cell": false,
   "toc_position": {},
   "toc_section_display": true,
   "toc_window_display": false
  }
 },
 "nbformat": 4,
 "nbformat_minor": 5
}
